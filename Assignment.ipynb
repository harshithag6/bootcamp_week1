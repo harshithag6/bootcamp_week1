{
 "cells": [
  {
   "cell_type": "markdown",
   "id": "18c410a4",
   "metadata": {},
   "source": [
    "Finally, here are the take home-problems for this week:\n",
    "1. Write a function  count_vowels(word) that takes a word as an argument and returns the number of vowels in the word\n",
    "2. Iterate through the following list of animals and print each one in all caps.\n",
    "  animals=['tiger', 'elephant', 'monkey', 'zebra', 'panther']\n",
    "3. Write a program that iterates from 1 to 20, printing each number and whether it's odd or even.\n",
    "4. Write a function sum_of_integers(a, b) that takes two integers as input from the user and returns their sum.\n",
    "\n"
   ]
  },
  {
   "cell_type": "markdown",
   "id": "a841fe67",
   "metadata": {},
   "source": [
    "## Qn 1"
   ]
  },
  {
   "cell_type": "code",
   "execution_count": 15,
   "id": "06ce96f9",
   "metadata": {},
   "outputs": [],
   "source": [
    "def count_vowels(word):\n",
    "    vowels = \"aeiouAEIOU\"\n",
    "    num_of_vowels = 0\n",
    "    for char in word:\n",
    "        if char in vowels:\n",
    "            num_of_vowels += 1\n",
    "    return num_of_vowels"
   ]
  },
  {
   "cell_type": "code",
   "execution_count": 16,
   "id": "ad3522fb",
   "metadata": {},
   "outputs": [
    {
     "data": {
      "text/plain": [
       "2"
      ]
     },
     "execution_count": 16,
     "metadata": {},
     "output_type": "execute_result"
    }
   ],
   "source": [
    "count_vowels(\"hello\")"
   ]
  },
  {
   "cell_type": "code",
   "execution_count": 17,
   "id": "1b55c775",
   "metadata": {},
   "outputs": [
    {
     "data": {
      "text/plain": [
       "3"
      ]
     },
     "execution_count": 17,
     "metadata": {},
     "output_type": "execute_result"
    }
   ],
   "source": [
    "count_vowels(\"HARSHITHA\")"
   ]
  },
  {
   "cell_type": "markdown",
   "id": "64cf7732",
   "metadata": {},
   "source": [
    "## Qn 2"
   ]
  },
  {
   "cell_type": "code",
   "execution_count": 23,
   "id": "30a9f71b",
   "metadata": {},
   "outputs": [
    {
     "name": "stdout",
     "output_type": "stream",
     "text": [
      "TIGER\n",
      "ELEPHANT\n",
      "MONKEY\n",
      "ZEBRA\n",
      "PANTHER\n"
     ]
    }
   ],
   "source": [
    "animals=['tiger', 'elephant', 'monkey', 'zebra', 'panther']\n",
    "for animal in animals:\n",
    "    print(animal.upper())"
   ]
  },
  {
   "cell_type": "markdown",
   "id": "7f71cf37",
   "metadata": {},
   "source": [
    "## Qn 3"
   ]
  },
  {
   "cell_type": "code",
   "execution_count": 24,
   "id": "9a5a7803",
   "metadata": {},
   "outputs": [
    {
     "name": "stdout",
     "output_type": "stream",
     "text": [
      "1 odd\n",
      "2 even\n",
      "3 odd\n",
      "4 even\n",
      "5 odd\n",
      "6 even\n",
      "7 odd\n",
      "8 even\n",
      "9 odd\n",
      "10 even\n",
      "11 odd\n",
      "12 even\n",
      "13 odd\n",
      "14 even\n",
      "15 odd\n",
      "16 even\n",
      "17 odd\n",
      "18 even\n",
      "19 odd\n",
      "20 even\n"
     ]
    }
   ],
   "source": [
    "for i in range(1, 21):\n",
    "    if i % 2 == 0:\n",
    "        line = \"even\"\n",
    "    else:\n",
    "        line = \"odd\"\n",
    "    print(i, line)"
   ]
  },
  {
   "cell_type": "markdown",
   "id": "4e909a79",
   "metadata": {},
   "source": [
    "## Qn 4"
   ]
  },
  {
   "cell_type": "code",
   "execution_count": 29,
   "id": "9b70ad2c",
   "metadata": {},
   "outputs": [],
   "source": [
    "def sum_of_integers(a, b):\n",
    "    return int(a) + int(b)"
   ]
  },
  {
   "cell_type": "code",
   "execution_count": 30,
   "id": "291d337b",
   "metadata": {},
   "outputs": [
    {
     "name": "stdout",
     "output_type": "stream",
     "text": [
      "2\n",
      "3\n"
     ]
    },
    {
     "data": {
      "text/plain": [
       "5"
      ]
     },
     "execution_count": 30,
     "metadata": {},
     "output_type": "execute_result"
    }
   ],
   "source": [
    "x = input()\n",
    "y = input()\n",
    "sum_of_integers(x, y)"
   ]
  },
  {
   "cell_type": "code",
   "execution_count": null,
   "id": "4db47be1",
   "metadata": {},
   "outputs": [],
   "source": []
  }
 ],
 "metadata": {
  "kernelspec": {
   "display_name": "Python 3 (ipykernel)",
   "language": "python",
   "name": "python3"
  },
  "language_info": {
   "codemirror_mode": {
    "name": "ipython",
    "version": 3
   },
   "file_extension": ".py",
   "mimetype": "text/x-python",
   "name": "python",
   "nbconvert_exporter": "python",
   "pygments_lexer": "ipython3",
   "version": "3.10.9"
  }
 },
 "nbformat": 4,
 "nbformat_minor": 5
}
